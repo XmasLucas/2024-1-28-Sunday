{
 "cells": [
  {
   "cell_type": "code",
   "execution_count": 28,
   "metadata": {},
   "outputs": [
    {
     "name": "stdout",
     "output_type": "stream",
     "text": [
      "身高160公分\n",
      "體重45公斤\n",
      "BMI:17.58\n"
     ]
    }
   ],
   "source": [
    "\n",
    "#bmi公式:  Bmi=weight(kg)/height(cm)\n",
    "height=eval(input(\"身高(公分)\"))\n",
    "weight=eval(input(\"體重(公斤)\"))\n",
    "bmi=weight/(height/100)**2\n",
    "#利用字串插補\n",
    "print(f\"身高{height}公分\")\n",
    "print(f\"體重{weight}公斤\")\n",
    "\n",
    "print(f\"BMI:{bmi:.2f}\")"
   ]
  },
  {
   "cell_type": "code",
   "execution_count": 34,
   "metadata": {},
   "outputs": [
    {
     "name": "stdout",
     "output_type": "stream",
     "text": [
      "上底30公分\n",
      "下底20公分\n",
      "高4公分\n",
      "面積是:100.0平方公分\n"
     ]
    }
   ],
   "source": [
    "#梯形面積公式:(上底+下底)*高/2\n",
    "上底=eval(input(\"上 底公分\"))\n",
    "下底=eval(input(\"下 底公分\"))\n",
    "高=eval(input(\"高 公分\"))\n",
    "梯形面積=(上底+下底)*高/2\n",
    "print(f\"上底{上底}公分\")\n",
    "print(f\"下底{下底}公分\")\n",
    "print(f\"高{高}公分\")\n",
    "print(f\"面積是:{梯形面積:.2f}平方公分\")"
   ]
  },
  {
   "cell_type": "code",
   "execution_count": 20,
   "metadata": {},
   "outputs": [
    {
     "data": {
      "text/plain": [
       "21.971"
      ]
     },
     "execution_count": 20,
     "metadata": {},
     "output_type": "execute_result"
    }
   ],
   "source": [
    "num1=21.971335857220122\n",
    "round(num1,ndigits=3)"
   ]
  }
 ],
 "metadata": {
  "kernelspec": {
   "display_name": "Python 3",
   "language": "python",
   "name": "python3"
  },
  "language_info": {
   "codemirror_mode": {
    "name": "ipython",
    "version": 3
   },
   "file_extension": ".py",
   "mimetype": "text/x-python",
   "name": "python",
   "nbconvert_exporter": "python",
   "pygments_lexer": "ipython3",
   "version": "3.10.13"
  }
 },
 "nbformat": 4,
 "nbformat_minor": 2
}
