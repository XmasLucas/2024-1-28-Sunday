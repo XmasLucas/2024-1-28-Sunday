{
 "cells": [
  {
   "cell_type": "code",
   "execution_count": null,
   "metadata": {},
   "outputs": [],
   "source": [
    "import matplotlib.pyplot as plt\n",
    "# 1.製作figure->畫布\n",
    "fig = plt.figure()\n",
    "print(type(fig))\n",
    "\n",
    "# 2.在1.的figure上製作一個axes\n",
    "ax_1 = fig.add_subplot(1, 1, 1)\n",
    "print(type(ax_1))\n",
    "\n",
    "# 3.將圖的數據儲存在axes中\n",
    "X = [0, 1, 2]\n",
    "Y = [3, 4, 5]\n",
    "ax_1.plot(X, Y)\n",
    "\n",
    "# 4.顯示圖\n",
    "plt.show()"
   ]
  },
  {
   "cell_type": "code",
   "execution_count": null,
   "metadata": {},
   "outputs": [],
   "source": [
    "import matplotlib.pyplot as plt\n",
    "fig = plt.figure()\n",
    "ax_1 = fig.add_subplot(1, 3, 1)\n",
    "ax_1.set_title('Axes1')\n",
    "ax_2 = fig.add_subplot(1, 3, 2)\n",
    "ax_2.set_title('Axes2')\n",
    "ax_3 = fig.add_subplot(1, 3, 3)\n",
    "ax_3.set_title('Axes3')\n",
    "\n",
    "plt.show()"
   ]
  },
  {
   "cell_type": "code",
   "execution_count": null,
   "metadata": {},
   "outputs": [],
   "source": [
    "days = []\n",
    "for num in range(1,32):\n",
    "    print(num)\n",
    "    days.append(num)\n",
    "days"
   ]
  },
  {
   "cell_type": "code",
   "execution_count": null,
   "metadata": {},
   "outputs": [],
   "source": [
    "import random\n",
    "import matplotlib.pyplot as plt\n",
    "days = [num for num in range(1, 32)]\n",
    "celsius = [round(random.uniform(28.5,35.2),ndigits=1) for _ in range(1, 32)]\n",
    "celsius1 = [round(random.uniform(28.5,35.2),ndigits=1) for _ in range(1, 32)]\n",
    "figure = plt.figure(figsize=(10,5))\n",
    "ax = figure.add_subplot(1,1,1)\n",
    "ax.grid()\n",
    "ax.plot(days,celsius,'g.-.')\n",
    "ax.plot(days,celsius1,'r.-.')\n",
    "ax.set_title(\"july and august weather\")\n",
    "ax.set_xlabel('Days')\n",
    "ax.set_ylabel('Celsius')\n",
    "ax.legend(['july','august'])\n",
    "#print(ax.get_xticks())\n",
    "ax.set_xticks(days)\n",
    "plt.show()"
   ]
  },
  {
   "cell_type": "code",
   "execution_count": null,
   "metadata": {},
   "outputs": [],
   "source": [
    "import numpy as np\n",
    "import math\n",
    "import matplotlib.pyplot as plt\n",
    "t = np.arange(0, 2.5, 0.1)\n",
    "y1 = np.sin(t * math.pi)\n",
    "y2 = np.cos(t * math.pi)\n",
    "#y2 = np.sin(t * math.pi + math.pi/2)\n",
    "\n",
    "figure = plt.figure()\n",
    "ax = figure.add_subplot()\n",
    "ax.plot(t,y1,'b*')\n",
    "ax.plot(t,y2,'g^')\n",
    "plt.show()"
   ]
  },
  {
   "cell_type": "code",
   "execution_count": null,
   "metadata": {},
   "outputs": [],
   "source": []
  }
 ],
 "metadata": {
  "kernelspec": {
   "display_name": "Python 3",
   "language": "python",
   "name": "python3"
  },
  "language_info": {
   "codemirror_mode": {
    "name": "ipython",
    "version": 3
   },
   "file_extension": ".py",
   "mimetype": "text/x-python",
   "name": "python",
   "nbconvert_exporter": "python",
   "pygments_lexer": "ipython3",
   "version": "3.10.13"
  }
 },
 "nbformat": 4,
 "nbformat_minor": 2
}
