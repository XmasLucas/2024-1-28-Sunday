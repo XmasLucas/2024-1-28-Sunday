{
 "cells": [
  {
   "cell_type": "code",
   "execution_count": null,
   "metadata": {},
   "outputs": [],
   "source": [
    "#list\n",
    "n = [1, 2, 3, 4, 5]\n",
    "m = [10, 10, 10, 10, 10]\n",
    "\n",
    "n + m #連結元素"
   ]
  },
  {
   "cell_type": "code",
   "execution_count": null,
   "metadata": {},
   "outputs": [],
   "source": [
    "import numpy as np\n",
    "array1 = np.array([1, 2, 3, 4, 5])\n",
    "array2 = np.array([10, 10, 10, 10, 10])\n",
    "add_array = array1 + array2 #陣列運算\n",
    "add_array"
   ]
  },
  {
   "cell_type": "code",
   "execution_count": null,
   "metadata": {},
   "outputs": [],
   "source": [
    "list1 = [\n",
    "         [1, 2, 3],\n",
    "         [2, 3, 4]\n",
    "        ]\n",
    "\n",
    "array3 = np.array(list1)\n",
    "array3"
   ]
  },
  {
   "cell_type": "code",
   "execution_count": null,
   "metadata": {},
   "outputs": [],
   "source": [
    "print(array3.ndim)\n",
    "print(array3.shape)\n",
    "print(array3.size)\n",
    "print(array3.dtype)"
   ]
  }
 ],
 "metadata": {
  "language_info": {
   "name": "python"
  }
 },
 "nbformat": 4,
 "nbformat_minor": 2
}
