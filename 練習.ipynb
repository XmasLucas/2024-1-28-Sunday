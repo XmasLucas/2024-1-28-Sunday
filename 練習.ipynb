{
 "cells": [
  {
   "cell_type": "code",
   "execution_count": 13,
   "metadata": {},
   "outputs": [],
   "source": [
    "input(\"你遇到阿神和他的朋友們\")\n",
    "input(\"他們給你一些考驗\")\n",
    "膽量=input(\"阿神:你是不是膽小鬼？是或否\")\n",
    "if 膽量==\"是\":\n",
    "    input('你被阿神用手殺死了!')\n",
    "else:\n",
    "    認人=input(\"羽毛:有三隻怪物，安德、史萊姆和骷弓？你會打誰？\")\n",
    "    if 認人==\"史萊姆\":\n",
    "        input('羽毛殺了你為綠色報仇!')\n",
    "    else:\n",
    "        建築=input(\"小白:你蓋一棟房子會用什麼材質？鑽石、木頭、石頭\")\n",
    "        if 建築=='鑽石':\n",
    "            input('小白:你住太奢侈了!你死了!')\n",
    "        if 建築=='木頭':\n",
    "            input('Him再燒你的房子時順便把你燒死了!')\n",
    "        if 建築=='石頭': \n",
    "            駭客=input(\"阿神的私服器有三個人，卻莫名其妙變四個人，誰是不請自來？阿神、哈紀、阿謙、殞月\") "
   ]
  }
 ],
 "metadata": {
  "kernelspec": {
   "display_name": "Python 3",
   "language": "python",
   "name": "python3"
  },
  "language_info": {
   "codemirror_mode": {
    "name": "ipython",
    "version": 3
   },
   "file_extension": ".py",
   "mimetype": "text/x-python",
   "name": "python",
   "nbconvert_exporter": "python",
   "pygments_lexer": "ipython3",
   "version": "3.10.13"
  }
 },
 "nbformat": 4,
 "nbformat_minor": 2
}
