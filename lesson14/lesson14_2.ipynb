{
 "cells": [
  {
   "cell_type": "code",
   "execution_count": null,
   "metadata": {},
   "outputs": [],
   "source": [
    "import requests\n",
    "#下載csv檔\n",
    "csv_url = 'https://data.moenv.gov.tw/api/v2/aqx_p_488?api_key=e8dd42e6-9b8b-43f8-991e-b3dee723a52d&limit=1000&sort=datacreationdate desc&format=CSV'\n",
    "res = requests.get(url=csv_url)\n",
    "if res.ok:\n",
    "    print(\"下載成功\")\n",
    "else:\n",
    "    print(\"下載失敗\")"
   ]
  },
  {
   "cell_type": "code",
   "execution_count": null,
   "metadata": {},
   "outputs": [],
   "source": [
    "import io\n",
    "import csv\n",
    "csv_str:str = res.text\n",
    "csv_file = io.StringIO(csv_str)\n",
    "dict_reader = csv.DictReader(csv_file)\n",
    "csv_data = list(dict_reader)\n",
    "for row in csv_data:\n",
    "    print(row)"
   ]
  },
  {
   "cell_type": "code",
   "execution_count": null,
   "metadata": {},
   "outputs": [],
   "source": [
    "#檢查資料類型\n",
    "#保証有資料\n",
    "#過濾key\n",
    "\n",
    "from pydantic import BaseModel,Field,field_serializer,RootModel\n",
    "from datetime import datetime\n",
    "\n",
    "class Site(BaseModel):\n",
    "    站點名稱:str = Field(alias='sitename')\n",
    "    城鎮:str = Field(alias='county')\n",
    "    aqi:int\n",
    "    狀態:str = Field(alias='status')\n",
    "    日期:datetime = Field(alias='datacreationdate')\n",
    "\n",
    "    @field_serializer(\"日期\")\n",
    "    def serialize_str(self,value):\n",
    "        return value.strftime('%a %d %b %Y, %I:%M%p')\n",
    "\n",
    "class Csvroot(RootModel):\n",
    "    root:list[Site]\n",
    "\n",
    "    def __iter__(self):\n",
    "        return iter(self.root)\n",
    "\n",
    "    def __getitem__(self, item):\n",
    "        return self.root[item]"
   ]
  },
  {
   "cell_type": "code",
   "execution_count": null,
   "metadata": {},
   "outputs": [],
   "source": [
    "csv_root = Csvroot.model_validate(csv_data)\n",
    "type(csv_root)"
   ]
  },
  {
   "cell_type": "code",
   "execution_count": null,
   "metadata": {},
   "outputs": [],
   "source": [
    "for site in csv_root:\n",
    "    print(type(site))"
   ]
  },
  {
   "cell_type": "code",
   "execution_count": null,
   "metadata": {},
   "outputs": [],
   "source": [
    "for site in csv_root:\n",
    "    print(site)"
   ]
  },
  {
   "cell_type": "code",
   "execution_count": null,
   "metadata": {},
   "outputs": [],
   "source": [
    "for site in csv_root:\n",
    "    print(site.model_dump())\n"
   ]
  }
 ],
 "metadata": {
  "language_info": {
   "name": "python"
  }
 },
 "nbformat": 4,
 "nbformat_minor": 2
}
