{
 "cells": [
  {
   "cell_type": "code",
   "execution_count": null,
   "metadata": {},
   "outputs": [],
   "source": [
    "import pandas as pd\n",
    "\n",
    "student = pd.DataFrame(data=[\n",
    "    {'姓名':'徐國堂','國文':87,'英文':92,'數學':86},\n",
    "    {'姓名':'王國堂','國文':92,'英文':80,'數學':90},\n",
    "    {'姓名':'張國堂','國文':76,'英文':83,'數學':65}\n",
    "])\n",
    "\n",
    "student"
   ]
  },
  {
   "cell_type": "code",
   "execution_count": null,
   "metadata": {},
   "outputs": [],
   "source": [
    "import requests\n",
    "#下載csv檔\n",
    "csv_url = 'https://data.moenv.gov.tw/api/v2/aqx_p_488?api_key=e8dd42e6-9b8b-43f8-991e-b3dee723a52d&limit=1000&sort=datacreationdate desc&format=CSV'\n",
    "res = requests.get(url=csv_url)\n",
    "if res.ok:\n",
    "    print(\"下載成功\")\n",
    "else:\n",
    "    print(\"下載失敗\")"
   ]
  },
  {
   "cell_type": "code",
   "execution_count": null,
   "metadata": {},
   "outputs": [],
   "source": [
    "import io\n",
    "import csv\n",
    "csv_str:str = res.text\n",
    "csv_file = io.StringIO(csv_str)\n",
    "dict_reader = csv.DictReader(csv_file)\n",
    "csv_data = list(dict_reader)"
   ]
  },
  {
   "cell_type": "code",
   "execution_count": null,
   "metadata": {},
   "outputs": [],
   "source": [
    "from pydantic import BaseModel,Field,field_serializer,RootModel\n",
    "from datetime import datetime\n",
    "\n",
    "class Site(BaseModel):\n",
    "    站點名稱:str = Field(alias='sitename')\n",
    "    城鎮:str = Field(alias='county')\n",
    "    aqi:int\n",
    "    狀態:str = Field(alias='status')\n",
    "    日期:datetime = Field(alias='datacreationdate')\n",
    "\n",
    "    @field_serializer(\"日期\")\n",
    "    def serialize_str(self,value):\n",
    "        return value.strftime('%a %d %b %Y, %I:%M%p')\n",
    "\n",
    "class Csvroot(RootModel):\n",
    "    root:list[Site]\n",
    "\n",
    "    def __iter__(self):\n",
    "        return iter(self.root)\n",
    "\n",
    "    def __getitem__(self, item):\n",
    "        return self.root[item]"
   ]
  },
  {
   "cell_type": "code",
   "execution_count": null,
   "metadata": {},
   "outputs": [],
   "source": [
    "csv_root = Csvroot.model_validate(csv_data)\n",
    "csv_root.model_dump()"
   ]
  },
  {
   "cell_type": "code",
   "execution_count": null,
   "metadata": {},
   "outputs": [],
   "source": []
  }
 ],
 "metadata": {
  "kernelspec": {
   "display_name": "Python 3",
   "language": "python",
   "name": "python3"
  },
  "language_info": {
   "name": "python",
   "version": "3.10.13"
  }
 },
 "nbformat": 4,
 "nbformat_minor": 2
}
