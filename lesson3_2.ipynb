{
 "cells": [
  {
   "cell_type": "code",
   "execution_count": 27,
   "metadata": {},
   "outputs": [
    {
     "name": "stdout",
     "output_type": "stream",
     "text": [
      "身高160公分\n",
      "體重45公斤\n",
      "BMI:17.58\n"
     ]
    }
   ],
   "source": [
    "\n",
    "#bmi公式:  Bmi=weight(kg)/height(cm)\n",
    "height=eval(input(\"身高(公分)\"))\n",
    "weight=eval(input(\"體重(公斤)\"))\n",
    "bmi=weight/(height/100)**2\n",
    "print(f\"身高{height}公分\",sep='')\n",
    "print(f\"體重{weight}公斤\",sep='')\n",
    "print(f\"BMI:{bmi:.2f}\")"
   ]
  },
  {
   "cell_type": "code",
   "execution_count": 20,
   "metadata": {},
   "outputs": [
    {
     "data": {
      "text/plain": [
       "21.971"
      ]
     },
     "execution_count": 20,
     "metadata": {},
     "output_type": "execute_result"
    }
   ],
   "source": [
    "num1=21.971335857220122\n",
    "round(num1,ndigits=3)"
   ]
  }
 ],
 "metadata": {
  "kernelspec": {
   "display_name": "Python 3",
   "language": "python",
   "name": "python3"
  },
  "language_info": {
   "codemirror_mode": {
    "name": "ipython",
    "version": 3
   },
   "file_extension": ".py",
   "mimetype": "text/x-python",
   "name": "python",
   "nbconvert_exporter": "python",
   "pygments_lexer": "ipython3",
   "version": "3.10.13"
  }
 },
 "nbformat": 4,
 "nbformat_minor": 2
}
