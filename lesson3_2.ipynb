{
 "cells": [
  {
   "cell_type": "code",
   "execution_count": 16,
   "metadata": {},
   "outputs": [
    {
     "name": "stdout",
     "output_type": "stream",
     "text": [
      "身高160公分\n",
      "體重45公斤\n",
      "BMI17.6\n"
     ]
    }
   ],
   "source": [
    "#bmi公式:  Bmi=weight(kg)/height(cm)\n",
    "height=eval(input(\"身高(公分)\"))\n",
    "weight=eval(input(\"體重(公斤)\"))\n",
    "bmi=weight/(height/100)**2\n",
    "print(\"身高\",height,\"公分\",sep='')\n",
    "print(\"體重\",weight,\"公斤\",sep='')\n",
    "print(\"BMI\",round(bmi,ndigits=1),sep='')"
   ]
  }
 ],
 "metadata": {
  "kernelspec": {
   "display_name": "Python 3",
   "language": "python",
   "name": "python3"
  },
  "language_info": {
   "codemirror_mode": {
    "name": "ipython",
    "version": 3
   },
   "file_extension": ".py",
   "mimetype": "text/x-python",
   "name": "python",
   "nbconvert_exporter": "python",
   "pygments_lexer": "ipython3",
   "version": "3.10.13"
  }
 },
 "nbformat": 4,
 "nbformat_minor": 2
}
