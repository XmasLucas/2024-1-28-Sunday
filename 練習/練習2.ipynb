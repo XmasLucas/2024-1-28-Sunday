{
 "cells": [
  {
   "cell_type": "code",
   "execution_count": 25,
   "metadata": {},
   "outputs": [],
   "source": [
    "凡大招=10\n",
    "max=49\n",
    "min=1\n",
    "玩家1=0\n",
    "玩家2=0\n",
    "玩家1動=4\n",
    "玩家2動=46\n",
    "移動玩家=0\n",
    "def 凡攻擊1():\n",
    "    攻擊=input('1大招(傷害)2二技能(暈眩)3一技能(傷害)')\n",
    "    if 攻擊=='1':\n",
    "\n",
    "def 移動():\n",
    "    if 移動玩家==1:\n",
    "        動=input('上=w 下=s 左=a 右=d')\n",
    "        if 動=='w':\n",
    "            if 玩家1動+7>max:\n",
    "                input('超出地圖了')\n",
    "            else:\n",
    "                玩家1動+=7\n",
    "        if 動=='s':\n",
    "            if 玩家1動-7>min:\n",
    "                input('超出地圖了')\n",
    "            else:\n",
    "                玩家1動-=7\n",
    "        if 動=='a':\n",
    "            if 玩家1動-1<min:\n",
    "                input('超出地圖了')\n",
    "            else:\n",
    "                玩家1動-=1\n",
    "        if 動=='d':\n",
    "            if 玩家1動+1>max:\n",
    "                input('超出地圖了')\n",
    "            else:\n",
    "                玩家1動+=1\n",
    "    if 移動玩家==2:\n",
    "        動=input('上=w 下=s 左=a 右=d')\n",
    "        if 動=='w':\n",
    "            if 玩家2動+7>max:\n",
    "                input('超出地圖了')\n",
    "            else:\n",
    "                玩家2動+=7\n",
    "        if 動=='s':\n",
    "            if 玩家2動-7>min:\n",
    "                input('超出地圖了')\n",
    "            else:\n",
    "                玩家2動-=7\n",
    "        if 動=='a':\n",
    "            if 玩家2動-1<min:\n",
    "                input('超出地圖了')\n",
    "            else:\n",
    "                玩家2動-=1\n",
    "        if 動=='d':\n",
    "            if 玩家2動+1>max:\n",
    "                input('超出地圖了')\n",
    "            else:\n",
    "                玩家2動+=1\n",
    "language=input('Choose a language 1(中文) 2(English) 3(عربي)')\n",
    "if language=='1':\n",
    "    input('歡迎來到傳說對決')\n",
    "    input('玩家1,請選擇角色')\n",
    "    角=input('1凡恩 2克里希 3莫托斯')\n",
    "    if 角=='1':\n",
    "        玩家1+=1\n",
    "    if 角=='2':\n",
    "        玩家1+=2\n",
    "    if 角=='3':\n",
    "        玩家1+=3\n",
    "    input('玩家2,請選擇角色')\n",
    "    角=input('1凡恩 2克里希 3莫托斯')\n",
    "    if 角=='1':\n",
    "        玩家2+=1\n",
    "    if 角=='2':\n",
    "        玩家2+=2\n",
    "    if 角=='3':\n",
    "        玩家2+=3"
   ]
  },
  {
   "cell_type": "code",
   "execution_count": 18,
   "metadata": {},
   "outputs": [
    {
     "name": "stdout",
     "output_type": "stream",
     "text": [
      "1\n"
     ]
    }
   ],
   "source": []
  }
 ],
 "metadata": {
  "kernelspec": {
   "display_name": "Python 3",
   "language": "python",
   "name": "python3"
  },
  "language_info": {
   "codemirror_mode": {
    "name": "ipython",
    "version": 3
   },
   "file_extension": ".py",
   "mimetype": "text/x-python",
   "name": "python",
   "nbconvert_exporter": "python",
   "pygments_lexer": "ipython3",
   "version": "3.10.13"
  }
 },
 "nbformat": 4,
 "nbformat_minor": 2
}
