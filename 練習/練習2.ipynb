{
 "cells": [
  {
   "cell_type": "code",
   "execution_count": 7,
   "metadata": {},
   "outputs": [],
   "source": [
    "power=0\n",
    "player1=1\n",
    "warrior=2\n",
    "shooter=1\n",
    "mage=1\n",
    "level=1\n",
    "profession=input(\"You can choose One of the Profession (warrior)or(shooter)or(mage)\")\n",
    "if profession=='warrior':\n",
    "    player1+=warrior\n",
    "    power+=player1\n",
    "    input(f'You power is \"{power}\" ')\n",
    "if profession=='shooter':\n",
    "    player1+=shooter\n",
    "    power+=player1\n",
    "    input(f'You power is \"{power}\" ')\n",
    "if profession=='mage':\n",
    "    player1+=mage\n",
    "    power+=player1\n",
    "    input(f'You power is \"{power}\" ')\n"
   ]
  },
  {
   "cell_type": "code",
   "execution_count": 4,
   "metadata": {},
   "outputs": [],
   "source": [
    "###reset###\n",
    "power=0\n",
    "player=1\n",
    "warrior=2\n",
    "shooter=1\n",
    "mage=1\n",
    "level=1"
   ]
  }
 ],
 "metadata": {
  "kernelspec": {
   "display_name": "Python 3",
   "language": "python",
   "name": "python3"
  },
  "language_info": {
   "codemirror_mode": {
    "name": "ipython",
    "version": 3
   },
   "file_extension": ".py",
   "mimetype": "text/x-python",
   "name": "python",
   "nbconvert_exporter": "python",
   "pygments_lexer": "ipython3",
   "version": "3.10.13"
  }
 },
 "nbformat": 4,
 "nbformat_minor": 2
}
