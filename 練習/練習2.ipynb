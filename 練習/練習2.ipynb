{
 "cells": [
  {
   "cell_type": "code",
   "execution_count": 25,
   "metadata": {},
   "outputs": [],
   "source": [
    "def 凡恩():\n",
    "    行動=input('1移動 2買裝備')\n",
    "    if 行動=='1':\n",
    "        input(' w a s d')\n",
    "玩家1=0\n",
    "玩家2=0\n",
    "language=input('Choose a language 1(中文) 2(English) 3(عربي)')\n",
    "if language=='1':\n",
    "    input('歡迎來到傳說對決')\n",
    "    input('玩家1,請選擇角色')\n",
    "    角=input('1凡恩 2克里希 3莫托斯')\n",
    "    if 角=='1':\n",
    "        玩家1+=1\n",
    "    if 角=='2':\n",
    "        玩家1+=2\n",
    "    if 角=='3':\n",
    "        玩家1+=3\n",
    "    input('玩家2,請選擇角色')\n",
    "    角=input('1凡恩 2克里希 3莫托斯')\n",
    "    if 角=='1':\n",
    "        玩家2+=1\n",
    "    if 角=='2':\n",
    "        玩家2+=2\n",
    "    if 角=='3':\n",
    "        玩家2+=3"
   ]
  },
  {
   "cell_type": "code",
   "execution_count": 18,
   "metadata": {},
   "outputs": [
    {
     "name": "stdout",
     "output_type": "stream",
     "text": [
      "1\n"
     ]
    }
   ],
   "source": []
  }
 ],
 "metadata": {
  "kernelspec": {
   "display_name": "Python 3",
   "language": "python",
   "name": "python3"
  },
  "language_info": {
   "codemirror_mode": {
    "name": "ipython",
    "version": 3
   },
   "file_extension": ".py",
   "mimetype": "text/x-python",
   "name": "python",
   "nbconvert_exporter": "python",
   "pygments_lexer": "ipython3",
   "version": "3.10.13"
  }
 },
 "nbformat": 4,
 "nbformat_minor": 2
}
