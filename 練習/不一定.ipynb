{
 "cells": [
  {
   "cell_type": "code",
   "execution_count": 12,
   "metadata": {},
   "outputs": [],
   "source": [
    "####\n",
    "import random\n",
    "import math\n",
    "teach=input('press Q to choose task')\n",
    "地點={1:'train staion',2:'school',3:'town'}\n",
    "while True:\n",
    "    def b():\n",
    "        b=input('Where will you go to perform tasks？')\n",
    "    def Q():\n",
    "        Q=input('1:Arrest the robber 2:Destroy monsters 3:Search for prisoners')\n",
    "        if Q=='1':\n",
    "            player=3\n",
    "            robber=23\n",
    "            input('use w.a.s.d to move')\n",
    "            while True:\n",
    "                m=input('move:')\n",
    "                if m=='w':\n",
    "                    player+=10\n",
    "                    if player>25:\n",
    "                        player-=10\n",
    "                        input('超出地圖了')\n",
    "                    else:\n",
    "                        if player==robber:\n",
    "                            input('你抓到robber了')\n",
    "                            input('You win')\n",
    "                            break\n",
    "                if m=='w':\n",
    "                    player+=10\n",
    "                    if player>25:\n",
    "                        player-=10\n",
    "                        input('超出地圖了')\n",
    "                    else:\n",
    "                        if player==robber:\n",
    "                            input('你抓到robber了')\n",
    "                            input('You win')\n",
    "                            break\n",
    "    D=input('What will you do 1 出任務 2沒事')\n",
    "    if D==\"1\":\n",
    "        Q()\n",
    "    if D=='2':\n",
    "        break"
   ]
  }
 ],
 "metadata": {
  "kernelspec": {
   "display_name": "Python 3",
   "language": "python",
   "name": "python3"
  },
  "language_info": {
   "codemirror_mode": {
    "name": "ipython",
    "version": 3
   },
   "file_extension": ".py",
   "mimetype": "text/x-python",
   "name": "python",
   "nbconvert_exporter": "python",
   "pygments_lexer": "ipython3",
   "version": "3.10.13"
  }
 },
 "nbformat": 4,
 "nbformat_minor": 2
}
