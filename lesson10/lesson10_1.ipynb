{
 "cells": [
  {
   "cell_type": "code",
   "execution_count": 1,
   "metadata": {},
   "outputs": [
    {
     "data": {
      "text/plain": [
       "{'國文': 74, '英文': 64, '數學': 57, '物理': 76, '人文': 70}"
      ]
     },
     "execution_count": 1,
     "metadata": {},
     "output_type": "execute_result"
    }
   ],
   "source": [
    "#建立學生分數\n",
    "from random import randint\n",
    "stu1: dict[str,int] = {\n",
    "    '國文':randint(50,100),\n",
    "    '英文':randint(50,100),\n",
    "    '數學':randint(50,100),\n",
    "    '物理':randint(50,100),\n",
    "    '人文':randint(50,100),\n",
    "    }\n",
    "stu1"
   ]
  },
  {
   "cell_type": "code",
   "execution_count": null,
   "metadata": {},
   "outputs": [],
   "source": [
    "stu2: dict[str,int] = {} #建立空的dictionary\n",
    "for key in ['國文','英文','數學','物理','人文']:\n",
    "    stu2[key] = randint(50,100)\n",
    "stu2"
   ]
  },
  {
   "cell_type": "code",
   "execution_count": null,
   "metadata": {},
   "outputs": [],
   "source": [
    "#dict的comprehension -> {key:value for..in.. }\n",
    "\n",
    "stu3: dict[str,int] = {key:randint(50,100) for key in ['國文','英文','數學','物理','人文']}\n",
    "stu3"
   ]
  },
  {
   "cell_type": "code",
   "execution_count": null,
   "metadata": {},
   "outputs": [],
   "source": [
    "#50個學生,5個分數\n",
    "from pprint import pprint\n",
    "\n",
    "students: list[dict[str,int]] = []\n",
    "for _ in range(50):\n",
    "    stu: dict[str,int] = {key:randint(50,100) for key in ['國文','英文','數學','物理','人文']}\n",
    "    students.append(stu)\n",
    "\n",
    "pprint(students)"
   ]
  },
  {
   "cell_type": "code",
   "execution_count": null,
   "metadata": {},
   "outputs": [],
   "source": [
    "for student in students:\n",
    "    for key in ['國文','物理','英文']:\n",
    "        print(f'{key}={student[key]}')\n",
    "    print(\"========\")"
   ]
  },
  {
   "cell_type": "code",
   "execution_count": null,
   "metadata": {},
   "outputs": [],
   "source": []
  }
 ],
 "metadata": {
  "kernelspec": {
   "display_name": "Python 3",
   "language": "python",
   "name": "python3"
  },
  "language_info": {
   "codemirror_mode": {
    "name": "ipython",
    "version": 3
   },
   "file_extension": ".py",
   "mimetype": "text/x-python",
   "name": "python",
   "nbconvert_exporter": "python",
   "pygments_lexer": "ipython3",
   "version": "3.10.13"
  }
 },
 "nbformat": 4,
 "nbformat_minor": 2
}
