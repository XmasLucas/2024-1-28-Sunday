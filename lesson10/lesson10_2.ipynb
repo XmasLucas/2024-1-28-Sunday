{
 "cells": [
  {
   "cell_type": "code",
   "execution_count": null,
   "metadata": {},
   "outputs": [],
   "source": [
    "try:\n",
    "    file = open('names.txt',encoding='utf-8')\n",
    "finally:\n",
    "    #處理file實體\n",
    "    file.close()\n",
    "if file.closed:\n",
    "    print('file物件被關閉')\n",
    "else:\n",
    "    print('file物件沒有關閉')"
   ]
  },
  {
   "cell_type": "code",
   "execution_count": null,
   "metadata": {},
   "outputs": [],
   "source": [
    "with open('names.txt',encoding='utf-8') as file:\n",
    "    display(file.read())\n",
    "#跳出程式區塊會自動close()   \n",
    "if file.closed:\n",
    "    print('file物件被關閉')\n",
    "else:\n",
    "    print('file物件沒有關閉')"
   ]
  },
  {
   "cell_type": "code",
   "execution_count": null,
   "metadata": {},
   "outputs": [],
   "source": [
    "\n",
    "with open('names.txt',encoding='utf-8') as file:\n",
    "    display(file.readline())\n",
    "    display(file.readline())\n",
    "    display(file.readline())\n",
    "    display(file.readline())\n",
    "#跳出程式區塊會自動close()   \n",
    "if file.closed:\n",
    "    print('file物件被關閉')\n",
    "else:\n",
    "    print('file物件沒有關閉')"
   ]
  },
  {
   "cell_type": "code",
   "execution_count": null,
   "metadata": {},
   "outputs": [],
   "source": [
    "with open('names.txt',encoding='utf-8') as file:\n",
    "    for i in file:\n",
    "        display(i)\n",
    "#跳出程式區塊會自動close()   \n",
    "if file.closed:\n",
    "    print('file物件被關閉')\n",
    "else:\n",
    "    print('file物件沒有關閉')"
   ]
  },
  {
   "cell_type": "code",
   "execution_count": null,
   "metadata": {},
   "outputs": [],
   "source": [
    "import random\n",
    "with open('names.txt',encoding='utf-8') as file:\n",
    "    names: str = file.read()\n",
    "\n",
    "name_list: list[str] = names.split(sep='\\n')\n",
    "random.choice(name_list)\n",
    "random.choices(name_list,k=3)\n"
   ]
  },
  {
   "cell_type": "code",
   "execution_count": null,
   "metadata": {},
   "outputs": [],
   "source": [
    "def get_names(nums=1)->list[str]:\n",
    "    import random\n",
    "    with open('names.txt',encoding='utf-8') as file:\n",
    "        names: str = file.read()\n",
    "    name_list: list[str] = names.split(sep='\\n')\n",
    "    return random.choices(name_list,k=nums)"
   ]
  },
  {
   "cell_type": "code",
   "execution_count": null,
   "metadata": {},
   "outputs": [],
   "source": [
    "#建立50個學生名字\n",
    "from random import randint\n",
    "names: list[str] = get_names(50)\n",
    "students:list[dict] = []\n",
    "for name in names:\n",
    "    student:dict = {'姓名':name}\n",
    "    for subject in ['國文','英文','數學','地理','生物']:\n",
    "        student[subject] = randint(50,100)\n",
    "    students.append( student)\n",
    "\n",
    "students"
   ]
  }
 ],
 "metadata": {
  "language_info": {
   "name": "python"
  }
 },
 "nbformat": 4,
 "nbformat_minor": 2
}
