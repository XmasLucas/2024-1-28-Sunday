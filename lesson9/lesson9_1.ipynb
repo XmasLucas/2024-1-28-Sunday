{
 "cells": [
  {
   "cell_type": "code",
   "execution_count": 1,
   "metadata": {},
   "outputs": [
    {
     "name": "stdout",
     "output_type": "stream",
     "text": [
      "[['筆記電腦', '商用筆電', '電競筆電'], ['APPLE', 'ASUS', 'HTC'], ['冰箱', '洗衣機', '電視']]\n"
     ]
    }
   ],
   "source": [
    "from pprint import pprint\n",
    "\n",
    "nb: list[str] = ['筆記電腦', '商用筆電','電競筆電'] #type hint\n",
    "mobile: list[str] = ['APPLE', 'ASUS', 'HTC'] \n",
    "home: list[str] = ['冰箱','洗衣機','電視']\n",
    "\n",
    "all3c = [nb, mobile, home]\n",
    "pprint(all3c)"
   ]
  },
  {
   "cell_type": "code",
   "execution_count": null,
   "metadata": {},
   "outputs": [],
   "source": [
    "try:\n",
    "    file = open('names.txt',encoding='utf-8')\n",
    "finally:\n",
    "    #處理file實體\n",
    "    file.close()\n",
    "if file.closed:\n",
    "    print('file物件被關閉')\n",
    "else:\n",
    "    print('file物件沒有關閉')"
   ]
  },
  {
   "cell_type": "code",
   "execution_count": null,
   "metadata": {},
   "outputs": [],
   "source": [
    "for i in t1:\n",
    "    print(i)\n",
    "\n",
    "print(f'編號0:{t1[0]}') #subscript\n",
    "print(f'編號1:{t1[1]}') #subscript\n",
    "print(f'編號2:{t1[2]}') #subscript\n",
    "print(f'編號3:{t1[3]}') #subscript\n",
    "\n",
    "#tuple,暫時儲存\n",
    "#最常使用拆解法,取出裏面的值\n",
    "(v1,v2,v3,v4) = t1\n",
    "print(v1)\n",
    "print(v2)\n",
    "print(v3)\n",
    "print(v4)\n",
    "\n",
    "vary1, vary2, vary3 = 'a','b','c'\n",
    "print(vary1)\n",
    "print(vary2)\n",
    "print(vary3)\n",
    "\n",
    "vary1, vary2, vary3"
   ]
  },
  {
   "cell_type": "code",
   "execution_count": null,
   "metadata": {},
   "outputs": [],
   "source": [
    "t1 = (1,2,3,4) #tuple\n",
    "#tuple內容不可以更改(不可變變數)\n",
    "#sequence\n",
    "#iterable"
   ]
  },
  {
   "cell_type": "code",
   "execution_count": null,
   "metadata": {},
   "outputs": [],
   "source": [
    "with open('names.txt',encoding='utf-8') as file:\n",
    "    names: str = file.read()\n",
    "\n",
    "name_list: list[str] = names.split(sep='\\n')\n",
    "name_list"
   ]
  }
 ],
 "metadata": {
  "kernelspec": {
   "display_name": "Python 3",
   "language": "python",
   "name": "python3"
  },
  "language_info": {
   "codemirror_mode": {
    "name": "ipython",
    "version": 3
   },
   "file_extension": ".py",
   "mimetype": "text/x-python",
   "name": "python",
   "nbconvert_exporter": "python",
   "pygments_lexer": "ipython3",
   "version": "3.10.13"
  }
 },
 "nbformat": 4,
 "nbformat_minor": 2
}
