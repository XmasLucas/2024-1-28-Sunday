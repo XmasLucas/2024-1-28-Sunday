{
 "cells": [
  {
   "cell_type": "code",
   "execution_count": null,
   "metadata": {},
   "outputs": [],
   "source": [
    "#list\n",
    "#type hint -> list[int]\n",
    "\n",
    "empty_list:list[int] = []\n",
    "empty_list:list[str] = list()\n",
    "weekday: list[str] = ['星期一', '星期二', '星期三', '星期四', '星期五', '星期六', '星期日']\n",
    "big_birds: list[str] = ['emu', 'ostrich', 'cassowary']"
   ]
  },
  {
   "cell_type": "code",
   "execution_count": null,
   "metadata": {},
   "outputs": [],
   "source": [
    "print(empty_list)\n",
    "print(weekday)\n",
    "print(big_birds)"
   ]
  },
  {
   "cell_type": "code",
   "execution_count": null,
   "metadata": {},
   "outputs": [],
   "source": [
    "#iterable\n",
    "for day in weekday:\n",
    "    print(day)"
   ]
  },
  {
   "cell_type": "code",
   "execution_count": null,
   "metadata": {},
   "outputs": [],
   "source": [
    "#傳出tuple\n",
    "#使用拆解法\n",
    "for index,value in enumerate(weekday):\n",
    "    print(f'索引編號:{index},值是:{value}')"
   ]
  },
  {
   "cell_type": "code",
   "execution_count": null,
   "metadata": {},
   "outputs": [],
   "source": [
    "#Sequence\n",
    "#iterable\n",
    "#不可變變數\n",
    "'Hello,World'\n",
    "list1 = list('Hello,World')\n",
    "list1"
   ]
  },
  {
   "cell_type": "code",
   "execution_count": null,
   "metadata": {},
   "outputs": [],
   "source": [
    "#索引編號取出值,subscript[索引編號]\n",
    "list1[0] #取出第一個\n",
    "list1[-1] #取出最後一個"
   ]
  },
  {
   "cell_type": "code",
   "execution_count": null,
   "metadata": {},
   "outputs": [],
   "source": [
    "#subscript[前面編號:後面編號]\n",
    "print(list1[:5]) #前面不寫代表最前面,前5個\n",
    "print(list1[-5:]) #後面不寫,代表的是最後(包含),後5個"
   ]
  },
  {
   "cell_type": "code",
   "execution_count": null,
   "metadata": {},
   "outputs": [],
   "source": [
    "#subscript[前面編號:後面編號] slice\n",
    "list1[0:5]\n",
    "list1[-5:-1] #-1最後一個不包含"
   ]
  },
  {
   "cell_type": "code",
   "execution_count": null,
   "metadata": {},
   "outputs": [],
   "source": [
    "#可變變數\n",
    "weekday[6] = 'sunday'\n",
    "weekday"
   ]
  }
 ],
 "metadata": {
  "language_info": {
   "name": "python"
  }
 },
 "nbformat": 4,
 "nbformat_minor": 2
}
