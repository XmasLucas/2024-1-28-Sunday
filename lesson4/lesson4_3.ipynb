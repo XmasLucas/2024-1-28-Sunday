{
 "cells": [
  {
   "cell_type": "code",
   "execution_count": 4,
   "metadata": {},
   "outputs": [
    {
     "data": {
      "text/plain": [
       "True"
      ]
     },
     "execution_count": 4,
     "metadata": {},
     "output_type": "execute_result"
    }
   ],
   "source": [
    "5>3"
   ]
  },
  {
   "cell_type": "code",
   "execution_count": 8,
   "metadata": {},
   "outputs": [
    {
     "name": "stdout",
     "output_type": "stream",
     "text": [
      "他是人或沒毛熊\n"
     ]
    }
   ],
   "source": [
    "is_furry=input(\"請問動物有毛嗎?(y,n)\")\n",
    "is_small=input(\"請問動物是小的嗎?(y,n)\")\n",
    "if(is_furry==\"y\"):\n",
    "    if(is_small==\"y\"):print(\"它是貓\")\n",
    "    \n",
    "    else:print(\"它是熊\")\n",
    "else:\n",
    "    \n",
    "    if(is_small==\"y\"):print(\"它是小蜥蜴\")\n",
    "    else:print(\"他是人或沒毛熊\")\n",
    "    "
   ]
  },
  {
   "cell_type": "code",
   "execution_count": 10,
   "metadata": {},
   "outputs": [
    {
     "name": "stdout",
     "output_type": "stream",
     "text": [
      "程式開始\n",
      "失敗\n",
      "程式結束\n"
     ]
    }
   ],
   "source": [
    "print(\"程式開始\")\n",
    "#雙向選擇\n",
    "if 3>3:\n",
    "    print(\"5>3\")\n",
    "    print(\"5真的大於3\")\n",
    "else:\n",
    "    print(\"失敗\")\n",
    "\n",
    "print(\"程式結束\")"
   ]
  },
  {
   "cell_type": "code",
   "execution_count": 1,
   "metadata": {},
   "outputs": [
    {
     "name": "stdout",
     "output_type": "stream",
     "text": [
      "學生沒有加分\n",
      "學生總分為300\n"
     ]
    }
   ],
   "source": [
    "#學生總分300分\n",
    "#有些學生可以加5％\n",
    "#如果加分超過300分，就是300分\n",
    "\n",
    "#type hint\n",
    "#資料型別提醒\n",
    "\n",
    "scores=int(input(\"請輸入學生分數(最高300p)\"))\n",
    "is_add=input(\"學生是否府和加分條件(yes,no):\")\n",
    "\n",
    "if is_add=='yes':\n",
    "    scores*=1.05\n",
    "    if scores>300:\n",
    "        scores=300\n",
    "else:\n",
    "    print(\"學生沒有加分\")\n",
    "\n",
    "print(f\"學生總分為{scores:.0f}\")"
   ]
  },
  {
   "cell_type": "code",
   "execution_count": null,
   "metadata": {},
   "outputs": [],
   "source": [
    "is_furry=input(\"請問動物有毛嗎(y,n)\")\n",
    "is_small=input(\"請問動物式小的嗎(y,n)\")\n",
    "if is_furry==\"y\":\n",
    "    "
   ]
  },
  {
   "cell_type": "code",
   "execution_count": 29,
   "metadata": {},
   "outputs": [
    {
     "name": "stdout",
     "output_type": "stream",
     "text": [
      "程式開始\n",
      "5>3\n",
      "5真的大於3\n",
      "程式結束\n"
     ]
    }
   ],
   "source": [
    "print(\"程式開始\")\n",
    "#雙向選擇\n",
    "if 5>3:\n",
    "    print(\"5>3\")\n",
    "    print(\"5真的大於3\")\n",
    "print(\"程式結束\")"
   ]
  },
  {
   "cell_type": "code",
   "execution_count": 45,
   "metadata": {},
   "outputs": [
    {
     "name": "stdout",
     "output_type": "stream",
     "text": [
      "總額是70000元\n"
     ]
    }
   ],
   "source": [
    "暫額=0\n",
    "冰箱=70000\n",
    "電視=50000\n",
    "電腦=20000\n",
    "手機=15300\n",
    "電燈泡10入=9500\n",
    "再次購買=eval(input(\"請輸入欲買品項冰箱70000 電視50000 電腦20000 手機15300 電燈泡10入9500\"))\n",
    "暫額+=再次購買\n",
    "問題=input(\"是否具續購買(是,否)\")\n",
    "if 問題=='是':\n",
    "    再次購買=eval(input(\"請輸入欲買品項冰箱70000 電視50000 電腦20000 手機15300 電燈泡10入9500\"))\n",
    "    暫額+=再次購買\n",
    "    問題=input(\"是否具續購買(是,否)\")\n",
    "    if 問題=='是':\n",
    "        再次購買=eval(input(\"請輸入欲買品項冰箱70000 電視50000 電腦20000 手機15300 電燈泡10入9500\"))\n",
    "        暫額+=再次購買\n",
    "        問題=input(\"是否具續購買(是,否)\")\n",
    "        if 問題=='是':\n",
    "            再次購買=eval(input(\"請輸入欲買品項冰箱70000 電視50000 電腦20000 手機15300 電燈泡10入9500\"))\n",
    "            暫額+=再次購買\n",
    "            print(f\"總額是{暫額}元\")\n",
    "        else:\n",
    "            暫額+=再次購買\n",
    "            print(f\"總額是{暫額}元\")\n",
    "    else:\n",
    "        暫額+=再次購買\n",
    "        print(f\"總額是{再次購買}元\")\n",
    "else:\n",
    "    print(f\"總額是{再次購買}元\")"
   ]
  }
 ],
 "metadata": {
  "kernelspec": {
   "display_name": "Python 3",
   "language": "python",
   "name": "python3"
  },
  "language_info": {
   "codemirror_mode": {
    "name": "ipython",
    "version": 3
   },
   "file_extension": ".py",
   "mimetype": "text/x-python",
   "name": "python",
   "nbconvert_exporter": "python",
   "pygments_lexer": "ipython3",
   "version": "3.10.13"
  }
 },
 "nbformat": 4,
 "nbformat_minor": 2
}
