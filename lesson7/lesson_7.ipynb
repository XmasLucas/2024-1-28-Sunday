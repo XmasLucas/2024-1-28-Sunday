{
 "cells": [
  {
   "cell_type": "code",
   "execution_count": 30,
   "metadata": {},
   "outputs": [
    {
     "data": {
      "text/plain": [
       "8"
      ]
     },
     "execution_count": 30,
     "metadata": {},
     "output_type": "execute_result"
    }
   ],
   "source": [
    "total=0\n",
    "for i in range(1,9):\n",
    "    total+=1\n",
    "total"
   ]
  },
  {
   "cell_type": "code",
   "execution_count": 32,
   "metadata": {},
   "outputs": [
    {
     "name": "stdout",
     "output_type": "stream",
     "text": [
      "請輸入第1月份的存款:320\n",
      "請輸入第2月份的存款:200\n",
      "請輸入第3月份的存款:200\n",
      "請輸入第4月份的存款:200\n",
      "請輸入第5月份的存款:200\n",
      "請輸入第6月份的存款:200\n",
      "請輸入第7月份的存款:1\n",
      "請輸入第8月份的存款:1\n",
      "請輸入第9月份的存款:1\n",
      "請輸入第10月份的存款:1\n",
      "請輸入第11月份的存款:1\n",
      "請輸入第12月份的存款:1\n",
      "請輸入第13月份的存款:1\n",
      "請輸入第14月份的存款:60000\n"
     ]
    }
   ],
   "source": [
    "#小明想要存錢買一輛機車,機車每輛30000元，他將每月存的錢輸入，當存款足夠買機車時，就顯示提示訊息告知。\n",
    "#使用break跳出迴圈\n",
    "import pyinputplus as pyip\n",
    "\n",
    "deposit:int = 0\n",
    "count:int = 0\n",
    "while(True):\n",
    "    count += 1\n",
    "    value:int = pyip.inputInt(f'請輸入第{count}月份的存款:')\n",
    "    print(value)\n",
    "    deposit += value\n",
    "    if deposit >= 30000:\n",
    "        break"
   ]
  }
 ],
 "metadata": {
  "kernelspec": {
   "display_name": "Python 3",
   "language": "python",
   "name": "python3"
  },
  "language_info": {
   "codemirror_mode": {
    "name": "ipython",
    "version": 3
   },
   "file_extension": ".py",
   "mimetype": "text/x-python",
   "name": "python",
   "nbconvert_exporter": "python",
   "pygments_lexer": "ipython3",
   "version": "3.10.13"
  }
 },
 "nbformat": 4,
 "nbformat_minor": 2
}
